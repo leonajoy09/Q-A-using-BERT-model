{
 "cells": [
  {
   "cell_type": "code",
   "execution_count": 6,
   "id": "a579952e-60c1-4855-a13a-d9b82cff8f7e",
   "metadata": {},
   "outputs": [],
   "source": [
    "import torch\n",
    "from transformers import AutoModelForQuestionAnswering, AutoTokenizer, pipeline"
   ]
  },
  {
   "cell_type": "code",
   "execution_count": 7,
   "id": "5ae56b26-31a3-49eb-a80e-6575737ed7cc",
   "metadata": {},
   "outputs": [],
   "source": [
    "QA_input =   [{'question' : 'Why is conversion important?',\n",
    "               'context' : 'The option to convert models between FARM and transformers gives freedom to the user and let people easily switch between frameworks'}, \n",
    "              {'question' : 'How many programming languages does BLOOM support?', \n",
    "               'context': 'BLOOM has 176 billion parameters and can generate text in 46 natural languages and 13 programming languages.'}]\n",
    "               "
   ]
  },
  {
   "cell_type": "code",
   "execution_count": 8,
   "id": "98674a39-4956-4680-92e3-e232e3c0c18c",
   "metadata": {},
   "outputs": [],
   "source": [
    "model_name = 'deepset/roberta-base-squad2'"
   ]
  },
  {
   "cell_type": "code",
   "execution_count": 9,
   "id": "c8fe82a7-bbf5-4f43-b1b6-c2dffe166e06",
   "metadata": {},
   "outputs": [],
   "source": [
    "force_download=True"
   ]
  },
  {
   "cell_type": "code",
   "execution_count": 11,
   "id": "34e2fdc4-45ef-4aae-b885-84db85352404",
   "metadata": {},
   "outputs": [],
   "source": [
    "model = AutoModelForQuestionAnswering.from_pretrained(model_name)\n",
    "tokenizer = AutoTokenizer.from_pretrained(model_name)"
   ]
  },
  {
   "cell_type": "code",
   "execution_count": 12,
   "id": "8eb56519-98e4-44e4-9836-55b798aa3e55",
   "metadata": {},
   "outputs": [],
   "source": [
    "inputs0 = tokenizer(QA_input[0]['question'], QA_input[0]['context'], return_tensors=\"pt\")\n",
    "output0 = model(**inputs0) "
   ]
  },
  {
   "cell_type": "code",
   "execution_count": 13,
   "id": "13845b04-e94b-404c-815c-36f5951d643c",
   "metadata": {},
   "outputs": [],
   "source": [
    "inputs1 = tokenizer(QA_input[1]['question'], QA_input[1]['context'], return_tensors=\"pt\")\n",
    "output1 = model(**inputs1) "
   ]
  },
  {
   "cell_type": "code",
   "execution_count": 14,
   "id": "1fc39b86-c2fb-403b-84f7-c1783d4ecbe4",
   "metadata": {},
   "outputs": [
    {
     "data": {
      "text/plain": [
       "QuestionAnsweringModelOutput(loss=None, start_logits=tensor([[ 1.6671, -7.3107, -8.5122, -8.3579, -8.3849, -9.1726, -3.0523, -7.2654,\n",
       "          0.7959, -0.8338, -3.0863, -2.7247, -3.7674, -4.8596, -5.3221, -7.3607,\n",
       "         -7.9440, -4.8642, -7.0714,  2.7610,  2.4298, -4.8678, -3.5955, -3.0015,\n",
       "         -3.3695,  0.4439, -5.5696, -3.0441, -3.3872, -5.4559, -3.3512, -3.6375,\n",
       "         -3.0521]], grad_fn=<CloneBackward0>), end_logits=tensor([[ 2.1548, -7.9159, -8.4644, -8.2000, -7.6542, -6.9541,  1.8781, -5.1242,\n",
       "         -6.3723, -4.8470, -7.4815, -6.8889, -4.4349, -7.6568, -7.6284, -3.8486,\n",
       "         -7.8707, -6.2801, -1.9387, -3.8908,  0.8889, -3.6185, -4.3947,  3.1086,\n",
       "         -3.0532, -5.1742, -3.3112, -2.3852, -2.5921, -0.0666, -4.9278,  1.7964,\n",
       "          1.8780]], grad_fn=<CloneBackward0>), hidden_states=None, attentions=None)"
      ]
     },
     "execution_count": 14,
     "metadata": {},
     "output_type": "execute_result"
    }
   ],
   "source": [
    "output0"
   ]
  },
  {
   "cell_type": "code",
   "execution_count": 15,
   "id": "99d49951-fe85-41b8-ba65-9b65ce7ef575",
   "metadata": {},
   "outputs": [
    {
     "name": "stdout",
     "output_type": "stream",
     "text": [
      "ques: Why is conversion important?\n",
      "answer:  gives freedom to the user\n"
     ]
    }
   ],
   "source": [
    "answer_start_idx = torch.argmax(output0.start_logits)\n",
    "answer_end_idx = torch.argmax(output0.end_logits)\n",
    "\n",
    "answer_tokens =inputs0.input_ids[0, answer_start_idx: answer_end_idx + 1]\n",
    "answer =tokenizer.decode(answer_tokens)\n",
    "print(\"ques: {}\\nanswer: {}\".format(QA_input[0]['question'], answer))"
   ]
  },
  {
   "cell_type": "code",
   "execution_count": 16,
   "id": "51585bc8-4afc-4ca0-a26d-49d73462bd15",
   "metadata": {},
   "outputs": [
    {
     "name": "stdout",
     "output_type": "stream",
     "text": [
      "ques: How many programming languages does BLOOM support?\n",
      "answer:  13\n"
     ]
    }
   ],
   "source": [
    "answer_start_idx = torch.argmax(output1.start_logits)\n",
    "answer_end_idx = torch.argmax(output1.end_logits)\n",
    "\n",
    "answer_tokens =inputs1.input_ids[0, answer_start_idx: answer_end_idx + 1]\n",
    "answer =tokenizer.decode(answer_tokens)\n",
    "print(\"ques: {}\\nanswer: {}\".format(QA_input[1]['question'], answer))"
   ]
  },
  {
   "cell_type": "code",
   "execution_count": 17,
   "id": "06e0a7bc-40f2-4f78-9987-4b69e9b0a6df",
   "metadata": {},
   "outputs": [],
   "source": [
    "#using pipeline\n",
    "qa = pipeline('question-answering', model=model_name, tokenizer=model_name)"
   ]
  },
  {
   "cell_type": "code",
   "execution_count": 18,
   "id": "1c6303a5-10e5-4385-8ee0-4937316ee32a",
   "metadata": {},
   "outputs": [
    {
     "name": "stdout",
     "output_type": "stream",
     "text": [
      "{'score': 0.23318055272102356, 'start': 59, 'end': 84, 'answer': 'gives freedom to the user'}\n"
     ]
    }
   ],
   "source": [
    "output_0 = qa(QA_input[0]['question'], QA_input[0]['context'])\n",
    "print(output_0)"
   ]
  },
  {
   "cell_type": "code",
   "execution_count": 19,
   "id": "f4402839-3aaa-4bdc-9df3-0f1126c7daa5",
   "metadata": {},
   "outputs": [
    {
     "name": "stdout",
     "output_type": "stream",
     "text": [
      "{'score': 0.9773290157318115, 'start': 83, 'end': 85, 'answer': '13'}\n"
     ]
    }
   ],
   "source": [
    "output_1 = qa(QA_input[1]['question'], QA_input[1]['context'])\n",
    "print(output_1)"
   ]
  },
  {
   "cell_type": "code",
   "execution_count": null,
   "id": "277a76d6-ffa7-4e17-a500-9db0d5083b19",
   "metadata": {},
   "outputs": [],
   "source": []
  }
 ],
 "metadata": {
  "kernelspec": {
   "display_name": "Python 3 (ipykernel)",
   "language": "python",
   "name": "python3"
  },
  "language_info": {
   "codemirror_mode": {
    "name": "ipython",
    "version": 3
   },
   "file_extension": ".py",
   "mimetype": "text/x-python",
   "name": "python",
   "nbconvert_exporter": "python",
   "pygments_lexer": "ipython3",
   "version": "3.11.9"
  }
 },
 "nbformat": 4,
 "nbformat_minor": 5
}
